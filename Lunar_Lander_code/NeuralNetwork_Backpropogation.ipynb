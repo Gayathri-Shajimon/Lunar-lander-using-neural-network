{
 "cells": [
  {
   "cell_type": "code",
   "execution_count": 520,
   "id": "61073b16",
   "metadata": {},
   "outputs": [],
   "source": [
    "import pandas as pd\n",
    "import matplotlib.pyplot as plt\n",
    "import random\n",
    "import numpy as np\n",
    "import math\n",
    "from sklearn.model_selection import train_test_split"
   ]
  },
  {
   "cell_type": "code",
   "execution_count": 521,
   "id": "0b93672a",
   "metadata": {},
   "outputs": [],
   "source": [
    "#Reading file from directory"
   ]
  },
  {
   "cell_type": "code",
   "execution_count": 522,
   "id": "618f1767",
   "metadata": {},
   "outputs": [],
   "source": [
    "game_row_data = pd.read_csv(\"M:/ce889_dataCollection_set3_good.csv\")\n",
    "dataframe = pd.DataFrame(game_row_data)"
   ]
  },
  {
   "cell_type": "code",
   "execution_count": 523,
   "id": "ace8314c",
   "metadata": {},
   "outputs": [
    {
     "data": {
      "text/html": [
       "<div>\n",
       "<style scoped>\n",
       "    .dataframe tbody tr th:only-of-type {\n",
       "        vertical-align: middle;\n",
       "    }\n",
       "\n",
       "    .dataframe tbody tr th {\n",
       "        vertical-align: top;\n",
       "    }\n",
       "\n",
       "    .dataframe thead th {\n",
       "        text-align: right;\n",
       "    }\n",
       "</style>\n",
       "<table border=\"1\" class=\"dataframe\">\n",
       "  <thead>\n",
       "    <tr style=\"text-align: right;\">\n",
       "      <th></th>\n",
       "      <th>distance x</th>\n",
       "      <th>distance y</th>\n",
       "      <th>velocity x</th>\n",
       "      <th>velocity y</th>\n",
       "    </tr>\n",
       "  </thead>\n",
       "  <tbody>\n",
       "    <tr>\n",
       "      <th>0</th>\n",
       "      <td>25.142149</td>\n",
       "      <td>65.144014</td>\n",
       "      <td>5.694243</td>\n",
       "      <td>-0.039372</td>\n",
       "    </tr>\n",
       "    <tr>\n",
       "      <th>1</th>\n",
       "      <td>49.536698</td>\n",
       "      <td>67.556081</td>\n",
       "      <td>5.690106</td>\n",
       "      <td>-3.309881</td>\n",
       "    </tr>\n",
       "    <tr>\n",
       "      <th>2</th>\n",
       "      <td>25.142777</td>\n",
       "      <td>70.738257</td>\n",
       "      <td>5.594243</td>\n",
       "      <td>0.000628</td>\n",
       "    </tr>\n",
       "    <tr>\n",
       "      <th>3</th>\n",
       "      <td>46.186817</td>\n",
       "      <td>73.146187</td>\n",
       "      <td>5.590106</td>\n",
       "      <td>-3.349881</td>\n",
       "    </tr>\n",
       "    <tr>\n",
       "      <th>4</th>\n",
       "      <td>25.103405</td>\n",
       "      <td>76.232501</td>\n",
       "      <td>5.494243</td>\n",
       "      <td>-0.039372</td>\n",
       "    </tr>\n",
       "  </tbody>\n",
       "</table>\n",
       "</div>"
      ],
      "text/plain": [
       "   distance x  distance y  velocity x  velocity y\n",
       "0   25.142149   65.144014    5.694243   -0.039372\n",
       "1   49.536698   67.556081    5.690106   -3.309881\n",
       "2   25.142777   70.738257    5.594243    0.000628\n",
       "3   46.186817   73.146187    5.590106   -3.349881\n",
       "4   25.103405   76.232501    5.494243   -0.039372"
      ]
     },
     "execution_count": 523,
     "metadata": {},
     "output_type": "execute_result"
    }
   ],
   "source": [
    "dataframe.head()"
   ]
  },
  {
   "cell_type": "code",
   "execution_count": 524,
   "id": "3b7b7b44",
   "metadata": {},
   "outputs": [
    {
     "name": "stdout",
     "output_type": "stream",
     "text": [
      "<class 'pandas.core.frame.DataFrame'>\n",
      "RangeIndex: 3697 entries, 0 to 3696\n",
      "Data columns (total 4 columns):\n",
      " #   Column      Non-Null Count  Dtype  \n",
      "---  ------      --------------  -----  \n",
      " 0   distance x  3697 non-null   float64\n",
      " 1   distance y  3697 non-null   float64\n",
      " 2   velocity x  3697 non-null   float64\n",
      " 3   velocity y  3697 non-null   float64\n",
      "dtypes: float64(4)\n",
      "memory usage: 115.7 KB\n"
     ]
    }
   ],
   "source": [
    "dataframe.info()"
   ]
  },
  {
   "cell_type": "code",
   "execution_count": 525,
   "id": "3c973a06",
   "metadata": {},
   "outputs": [
    {
     "data": {
      "text/html": [
       "<div>\n",
       "<style scoped>\n",
       "    .dataframe tbody tr th:only-of-type {\n",
       "        vertical-align: middle;\n",
       "    }\n",
       "\n",
       "    .dataframe tbody tr th {\n",
       "        vertical-align: top;\n",
       "    }\n",
       "\n",
       "    .dataframe thead th {\n",
       "        text-align: right;\n",
       "    }\n",
       "</style>\n",
       "<table border=\"1\" class=\"dataframe\">\n",
       "  <thead>\n",
       "    <tr style=\"text-align: right;\">\n",
       "      <th></th>\n",
       "      <th>distance x</th>\n",
       "      <th>distance y</th>\n",
       "      <th>velocity x</th>\n",
       "      <th>velocity y</th>\n",
       "    </tr>\n",
       "  </thead>\n",
       "  <tbody>\n",
       "    <tr>\n",
       "      <th>count</th>\n",
       "      <td>3697.000000</td>\n",
       "      <td>3697.000000</td>\n",
       "      <td>3697.000000</td>\n",
       "      <td>3697.000000</td>\n",
       "    </tr>\n",
       "    <tr>\n",
       "      <th>mean</th>\n",
       "      <td>-101.524542</td>\n",
       "      <td>419.386065</td>\n",
       "      <td>0.398747</td>\n",
       "      <td>-0.181167</td>\n",
       "    </tr>\n",
       "    <tr>\n",
       "      <th>std</th>\n",
       "      <td>102.318430</td>\n",
       "      <td>126.516211</td>\n",
       "      <td>1.779625</td>\n",
       "      <td>0.715287</td>\n",
       "    </tr>\n",
       "    <tr>\n",
       "      <th>min</th>\n",
       "      <td>-297.001526</td>\n",
       "      <td>65.144014</td>\n",
       "      <td>-3.763255</td>\n",
       "      <td>-4.949881</td>\n",
       "    </tr>\n",
       "    <tr>\n",
       "      <th>25%</th>\n",
       "      <td>-177.473659</td>\n",
       "      <td>342.064179</td>\n",
       "      <td>-0.977152</td>\n",
       "      <td>-0.271661</td>\n",
       "    </tr>\n",
       "    <tr>\n",
       "      <th>50%</th>\n",
       "      <td>-96.035702</td>\n",
       "      <td>438.123968</td>\n",
       "      <td>0.335803</td>\n",
       "      <td>-0.095635</td>\n",
       "    </tr>\n",
       "    <tr>\n",
       "      <th>75%</th>\n",
       "      <td>-24.376552</td>\n",
       "      <td>508.712613</td>\n",
       "      <td>1.633709</td>\n",
       "      <td>-0.007542</td>\n",
       "    </tr>\n",
       "    <tr>\n",
       "      <th>max</th>\n",
       "      <td>219.661910</td>\n",
       "      <td>641.871080</td>\n",
       "      <td>5.694243</td>\n",
       "      <td>2.789426</td>\n",
       "    </tr>\n",
       "  </tbody>\n",
       "</table>\n",
       "</div>"
      ],
      "text/plain": [
       "        distance x   distance y   velocity x   velocity y\n",
       "count  3697.000000  3697.000000  3697.000000  3697.000000\n",
       "mean   -101.524542   419.386065     0.398747    -0.181167\n",
       "std     102.318430   126.516211     1.779625     0.715287\n",
       "min    -297.001526    65.144014    -3.763255    -4.949881\n",
       "25%    -177.473659   342.064179    -0.977152    -0.271661\n",
       "50%     -96.035702   438.123968     0.335803    -0.095635\n",
       "75%     -24.376552   508.712613     1.633709    -0.007542\n",
       "max     219.661910   641.871080     5.694243     2.789426"
      ]
     },
     "execution_count": 525,
     "metadata": {},
     "output_type": "execute_result"
    }
   ],
   "source": [
    "desc = dataframe.describe()\n",
    "desc"
   ]
  },
  {
   "cell_type": "code",
   "execution_count": 526,
   "id": "f0413654",
   "metadata": {},
   "outputs": [],
   "source": [
    "#Checking null values"
   ]
  },
  {
   "cell_type": "code",
   "execution_count": 527,
   "id": "94d08f51",
   "metadata": {},
   "outputs": [
    {
     "data": {
      "text/plain": [
       "distance x    0\n",
       "distance y    0\n",
       "velocity x    0\n",
       "velocity y    0\n",
       "dtype: int64"
      ]
     },
     "execution_count": 527,
     "metadata": {},
     "output_type": "execute_result"
    }
   ],
   "source": [
    "dataframe.isnull().sum()"
   ]
  },
  {
   "cell_type": "code",
   "execution_count": 528,
   "id": "bc6a9748",
   "metadata": {},
   "outputs": [
    {
     "data": {
      "image/png": "[encoded data removed]",
      "text/plain": [
       "<Figure size 2000x1000 with 4 Axes>"
      ]
     },
     "metadata": {},
     "output_type": "display_data"
    }
   ],
   "source": [
    "dataframe.hist(figsize=(20,10))\n",
    "plt.show()"
   ]
  },
  {
   "cell_type": "code",
   "execution_count": 529,
   "id": "a15b6205",
   "metadata": {},
   "outputs": [],
   "source": [
    "#Shuffling the data"
   ]
  },
  {
   "cell_type": "code",
   "execution_count": 530,
   "id": "f0ec74b3",
   "metadata": {},
   "outputs": [
    {
     "data": {
      "text/html": [
       "<div>\n",
       "<style scoped>\n",
       "    .dataframe tbody tr th:only-of-type {\n",
       "        vertical-align: middle;\n",
       "    }\n",
       "\n",
       "    .dataframe tbody tr th {\n",
       "        vertical-align: top;\n",
       "    }\n",
       "\n",
       "    .dataframe thead th {\n",
       "        text-align: right;\n",
       "    }\n",
       "</style>\n",
       "<table border=\"1\" class=\"dataframe\">\n",
       "  <thead>\n",
       "    <tr style=\"text-align: right;\">\n",
       "      <th></th>\n",
       "      <th>distance x</th>\n",
       "      <th>distance y</th>\n",
       "      <th>velocity x</th>\n",
       "      <th>velocity y</th>\n",
       "    </tr>\n",
       "  </thead>\n",
       "  <tbody>\n",
       "    <tr>\n",
       "      <th>2785</th>\n",
       "      <td>-76.605231</td>\n",
       "      <td>328.186321</td>\n",
       "      <td>-1.001884</td>\n",
       "      <td>-0.542220</td>\n",
       "    </tr>\n",
       "    <tr>\n",
       "      <th>3443</th>\n",
       "      <td>-250.765334</td>\n",
       "      <td>581.990276</td>\n",
       "      <td>-2.144464</td>\n",
       "      <td>-0.500995</td>\n",
       "    </tr>\n",
       "    <tr>\n",
       "      <th>1461</th>\n",
       "      <td>-68.322480</td>\n",
       "      <td>490.533607</td>\n",
       "      <td>0.857656</td>\n",
       "      <td>-0.020176</td>\n",
       "    </tr>\n",
       "    <tr>\n",
       "      <th>1331</th>\n",
       "      <td>4.370681</td>\n",
       "      <td>292.950404</td>\n",
       "      <td>1.035803</td>\n",
       "      <td>-0.011240</td>\n",
       "    </tr>\n",
       "    <tr>\n",
       "      <th>559</th>\n",
       "      <td>-7.451511</td>\n",
       "      <td>361.228722</td>\n",
       "      <td>2.280346</td>\n",
       "      <td>0.029288</td>\n",
       "    </tr>\n",
       "    <tr>\n",
       "      <th>...</th>\n",
       "      <td>...</td>\n",
       "      <td>...</td>\n",
       "      <td>...</td>\n",
       "      <td>...</td>\n",
       "    </tr>\n",
       "    <tr>\n",
       "      <th>2618</th>\n",
       "      <td>-130.745893</td>\n",
       "      <td>447.511816</td>\n",
       "      <td>-0.740539</td>\n",
       "      <td>-0.337488</td>\n",
       "    </tr>\n",
       "    <tr>\n",
       "      <th>2953</th>\n",
       "      <td>-94.369798</td>\n",
       "      <td>516.542443</td>\n",
       "      <td>-1.276158</td>\n",
       "      <td>-0.174004</td>\n",
       "    </tr>\n",
       "    <tr>\n",
       "      <th>380</th>\n",
       "      <td>-91.418851</td>\n",
       "      <td>365.239470</td>\n",
       "      <td>2.760482</td>\n",
       "      <td>-0.206845</td>\n",
       "    </tr>\n",
       "    <tr>\n",
       "      <th>250</th>\n",
       "      <td>-178.044603</td>\n",
       "      <td>571.426976</td>\n",
       "      <td>3.220938</td>\n",
       "      <td>0.033132</td>\n",
       "    </tr>\n",
       "    <tr>\n",
       "      <th>2966</th>\n",
       "      <td>-160.919128</td>\n",
       "      <td>400.096126</td>\n",
       "      <td>-1.298847</td>\n",
       "      <td>-0.543468</td>\n",
       "    </tr>\n",
       "  </tbody>\n",
       "</table>\n",
       "<p>3697 rows × 4 columns</p>\n",
       "</div>"
      ],
      "text/plain": [
       "      distance x  distance y  velocity x  velocity y\n",
       "2785  -76.605231  328.186321   -1.001884   -0.542220\n",
       "3443 -250.765334  581.990276   -2.144464   -0.500995\n",
       "1461  -68.322480  490.533607    0.857656   -0.020176\n",
       "1331    4.370681  292.950404    1.035803   -0.011240\n",
       "559    -7.451511  361.228722    2.280346    0.029288\n",
       "...          ...         ...         ...         ...\n",
       "2618 -130.745893  447.511816   -0.740539   -0.337488\n",
       "2953  -94.369798  516.542443   -1.276158   -0.174004\n",
       "380   -91.418851  365.239470    2.760482   -0.206845\n",
       "250  -178.044603  571.426976    3.220938    0.033132\n",
       "2966 -160.919128  400.096126   -1.298847   -0.543468\n",
       "\n",
       "[3697 rows x 4 columns]"
      ]
     },
     "execution_count": 530,
     "metadata": {},
     "output_type": "execute_result"
    }
   ],
   "source": [
    "dataframe.sample(frac=1)"
   ]
  },
  {
   "cell_type": "code",
   "execution_count": 531,
   "id": "b02a17c7",
   "metadata": {},
   "outputs": [],
   "source": [
    "#Normalisation"
   ]
  },
  {
   "cell_type": "code",
   "execution_count": 532,
   "id": "c8f6bf75",
   "metadata": {},
   "outputs": [],
   "source": [
    "def normalisation(min, max, dataframe):\n",
    "    normalised = []\n",
    "    dist_vel = dataframe\n",
    "    for i in dist_vel:\n",
    "        norm = ((i - min)/(max- min))\n",
    "        normalised.append(norm)\n",
    "    return normalised    \n",
    "    "
   ]
  },
  {
   "cell_type": "code",
   "execution_count": 533,
   "id": "248c2954",
   "metadata": {},
   "outputs": [],
   "source": [
    "norm_dist_x = normalisation(desc['distance x'][3],desc['distance x'][7], dataframe['distance x'])\n",
    "norm_dist_y = normalisation(desc['distance y'][3],desc['distance y'][7], dataframe['distance y'])\n",
    "norm_vel_x = normalisation(desc['velocity x'][3],desc['velocity x'][7], dataframe['velocity x'])\n",
    "norm_vel_y = normalisation(desc['velocity y'][3],desc['velocity y'][7], dataframe['velocity y'])"
   ]
  },
  {
   "cell_type": "code",
   "execution_count": 534,
   "id": "daf7e2b2",
   "metadata": {},
   "outputs": [],
   "source": [
    "game_processed_data = pd.DataFrame(zip(norm_dist_x, norm_dist_y, norm_vel_x, norm_vel_y))\n",
    "game_processed_data.columns = [\"distance_x\", \"distance_y\", \"velocity_x\", \"velocity_y\"]\n",
    "game_processed_data\n",
    "game_processed_data.to_csv(\"M:\\splittest.csv\", index = False)"
   ]
  },
  {
   "cell_type": "code",
   "execution_count": 535,
   "id": "021a973d",
   "metadata": {},
   "outputs": [],
   "source": [
    "x = game_processed_data[[\"distance_x\", \"distance_y\"]]\n",
    "y = game_processed_data[[\"velocity_x\", \"velocity_y\"]]"
   ]
  },
  {
   "cell_type": "code",
   "execution_count": 536,
   "id": "933892b0",
   "metadata": {},
   "outputs": [],
   "source": [
    "# Splitting the data into Training and validation"
   ]
  },
  {
   "cell_type": "code",
   "execution_count": 537,
   "id": "ba2c20b2",
   "metadata": {},
   "outputs": [],
   "source": [
    "X_train, X_val, y_train, y_val = train_test_split(x,y,test_size=0.15, shuffle = True, random_state = 4)"
   ]
  },
  {
   "cell_type": "code",
   "execution_count": 538,
   "id": "0c13be75",
   "metadata": {},
   "outputs": [
    {
     "name": "stdout",
     "output_type": "stream",
     "text": [
      "X_train shape: (3142, 2)\n",
      "X_validation shape: (555, 2)\n",
      "y_train shape: (3142, 2)\n",
      "y_validation shape: (555, 2)\n"
     ]
    }
   ],
   "source": [
    "print(\"X_train shape: {}\".format(X_train.shape))\n",
    "print(\"X_validation shape: {}\".format(X_val.shape))\n",
    "print(\"y_train shape: {}\".format(y_train.shape))\n",
    "print(\"y_validation shape: {}\".format(y_val.shape))"
   ]
  },
  {
   "cell_type": "code",
   "execution_count": 539,
   "id": "255d9d99",
   "metadata": {},
   "outputs": [
    {
     "data": {
      "image/png": "[encoded data removed]",
      "text/plain": [
       "<Figure size 2000x1000 with 4 Axes>"
      ]
     },
     "metadata": {},
     "output_type": "display_data"
    }
   ],
   "source": [
    "game_processed_data.hist(figsize=(20,10))\n",
    "plt.show()"
   ]
  },
  {
   "cell_type": "code",
   "execution_count": 540,
   "id": "8ea10a6e",
   "metadata": {},
   "outputs": [],
   "source": [
    "traing_data = pd.concat([X_train, y_train], axis=1, join='inner')\n",
    "validation_data = pd.concat([X_val, y_val], axis=1, join='inner')"
   ]
  },
  {
   "cell_type": "code",
   "execution_count": 541,
   "id": "b30bc06e",
   "metadata": {},
   "outputs": [],
   "source": [
    "game_processed_data = traing_data"
   ]
  },
  {
   "cell_type": "code",
   "execution_count": 542,
   "id": "5ac3f704",
   "metadata": {},
   "outputs": [],
   "source": [
    "#Saving the normalisation data to directory"
   ]
  },
  {
   "cell_type": "code",
   "execution_count": 543,
   "id": "0daff44c",
   "metadata": {},
   "outputs": [],
   "source": [
    "game_processed_data.to_csv(\"M:\\game_normalized_data.csv\", index = False)"
   ]
  },
  {
   "cell_type": "code",
   "execution_count": 544,
   "id": "f34adde8",
   "metadata": {},
   "outputs": [],
   "source": [
    "#Validation data Formating the data in to required format for the processing"
   ]
  },
  {
   "cell_type": "code",
   "execution_count": 545,
   "id": "e3a194bb",
   "metadata": {},
   "outputs": [],
   "source": [
    "game_final_data = []\n",
    "game_data_list = list(map(list, game_processed_data.to_numpy()))\n",
    "for lst in game_data_list:\n",
    "    index1 = slice(0,2)\n",
    "    index2 = slice(2,4)\n",
    "    distance = lst[index1]\n",
    "    velocity = lst[index2]\n",
    "    game_final_data.append(list(zip(distance,velocity)))"
   ]
  },
  {
   "cell_type": "code",
   "execution_count": 546,
   "id": "660d342b",
   "metadata": {},
   "outputs": [],
   "source": [
    "file_input_rows = game_final_data"
   ]
  },
  {
   "cell_type": "code",
   "execution_count": 547,
   "id": "12dd44bc",
   "metadata": {},
   "outputs": [],
   "source": [
    "#Validation data Formating the data in to required format for the processing"
   ]
  },
  {
   "cell_type": "code",
   "execution_count": 548,
   "id": "154c4eb9",
   "metadata": {},
   "outputs": [],
   "source": [
    "game_validation_data = []\n",
    "game_data = list(map(list, validation_data.to_numpy()))\n",
    "for lst in game_data:\n",
    "    index1 = slice(0,2)\n",
    "    index2 = slice(2,4)\n",
    "    distance = lst[index1]\n",
    "    velocity = lst[index2]\n",
    "    game_validation_data.append(list(zip(distance,velocity)))    "
   ]
  },
  {
   "cell_type": "code",
   "execution_count": 549,
   "id": "11c4f5a6",
   "metadata": {},
   "outputs": [
    {
     "name": "stdout",
     "output_type": "stream",
     "text": [
      "Minimum RMSE Value : 0.13629345113692495, Weights : {'delta_output_w_value': [[-0.006450148133316503, -0.00441401445458795, -0.005368221614825543, -0.007033252313977421, -0.00025037120633760335, -0.005801070918114849, -0.005678880744667735], [0.0002825318463910918, 0.00013732839588117993, 9.25886552873615e-05, 6.534971179793891e-05, 0.00012913039391658588, 0.00010908396640075446, 0.00023438852894723126]], 'output_w_value': [[0.10124353884973095, 0.06928374894338579, 0.08426128243586593, 0.11039612411568042, 0.003929904621068231, 0.09105542023671626, 0.08913748512627291], [0.1887082126733756, 0.09172415947817313, 0.06184166449301261, 0.04364827352962814, 0.08624856330028279, 0.07285918594222579, 0.15655240615795007]], 'delta_input_w_value': [[1.957381992949863e-17, 1.9929038139196968e-17], [2.204855392673071e-22, 7.778655153118227e-23], [6.814216539139071e-16, 1.064360336059536e-15], [2.7335088674438937e-16, 4.010307964985298e-16], [-5.795037855695471e-06, -4.787413955896191e-06], [1.1260280696804788e-20, 5.576666940181594e-21], [7.906895211693177e-16, 1.3079348503585817e-15]], 'input_w_value': [[83.17796393010626, 84.68744585749833], [185.56702379753486, 65.4674175326082], [53.52478357004931, 83.6041183911795], [61.183916218958565, 89.76241104032887], [0.2402679806710665, 0.19849090074349746], [150.16449960340043, 74.36914079458255], [50.736444306350094, 83.92670184045885]]} \n"
     ]
    }
   ],
   "source": [
    "class neural_network_back_propogtaion:\n",
    "    \n",
    "    def __init__(self):\n",
    "        self._eetta = 0.9\n",
    "        self._lambda = 0.8 \n",
    "        self._alpha = .03\n",
    "        \n",
    "    def activation_function(self, input_data, inp_weights):\n",
    "        v_results = np.dot(input_data, np.transpose(inp_weights))\n",
    "        hidden_layer_values = [(lambda v: 1 / (1 + math.exp(-self._lambda * v)))(v) for v in v_results]\n",
    "        return hidden_layer_values \n",
    "\n",
    "    def out_gradient(self, distance, output_hidden_layer_values,error_list):\n",
    "        for i in range(len(distance)):\n",
    "            outgradient = (self._lambda * output_hidden_layer_values[i] * (1 - output_hidden_layer_values[i]) * error_list[i])  \n",
    "            outgradient_list.append(outgradient)\n",
    "        return outgradient_list \n",
    "\n",
    "    def local_gradient(self, outgrad_list, out_weights, hdn_layer_values):\n",
    "        local_gradient_dotproduct = np.dot(outgrad_list, out_weights)\n",
    "        local_gradient_h_value = [(lambda h: self._lambda * h * (1-h))(h) for h in hdn_layer_values]\n",
    "        local_gradients = [(lambda i: local_gradient_dotproduct[i] * local_gradient_h_value[i])(i) for i in range(len(local_gradient_dotproduct))]\n",
    "        return local_gradients\n",
    "\n",
    "    def delta_output_weight_updation(self, output_weights, outgrad_list, previous_row_delta_wgts):\n",
    "        output_delta_weights = [[None for _ in range(len(output_weights[0]))] for _ in range(len(output_weights))]\n",
    "        for i in range(len(output_weights)):\n",
    "                for j in range(len(output_weights[0])):\n",
    "                    output_delta_weights[i][j] = output_weights[i][j] * outgrad_list[i] * self._eetta + (self._alpha * previous_row_delta_wgts[i][j])\n",
    "        return output_delta_weights\n",
    "\n",
    "    def delta_input_weight_updation(self, input_weights, local_gradients, previous_row_input_delta_weights):\n",
    "        input_delta_weights = [[None for _ in range(len(input_weights[0]))] for _ in range(len(input_weights))]\n",
    "        for i in range(len(input_weights)):\n",
    "                for j in range(len(input_weights[0])):\n",
    "                    input_delta_weights[i][j] = input_weights[i][j] * local_gradients[i] * self._eetta + (self._alpha * previous_row_input_delta_weights[i][j])\n",
    "        return input_delta_weights\n",
    "\n",
    "    def weight_updation(self, output_delta_weights, output_weights):\n",
    "        output_updated_weights = [[None for _ in range(len(output_delta_weights[0]))] for _ in range(len(output_delta_weights))]\n",
    "        for i in range(len(output_delta_weights)):\n",
    "            for j in range(len(output_delta_weights[0])):\n",
    "                output_updated_weights[i][j] = output_delta_weights[i][j] + output_weights[i][j]\n",
    "        return output_updated_weights \n",
    "\n",
    "    def rmse_value_calculation(self, rmse_list):\n",
    "        square_error = np.square(rmse_list)\n",
    "        meansquare_err = square_error.mean()\n",
    "        meansquare_err = math.sqrt(meansquare_err)\n",
    "        return meansquare_err\n",
    "\n",
    "    def validation_values(self, game_validation_data, weight_store):\n",
    "        for distance, velocity in game_validation_data:\n",
    "            input_weights = weight_store[_input_w_value_] \n",
    "            v_results = np.dot(distance, np.transpose(input_weights))\n",
    "            hidden_layer_values = [(lambda v: 1 / (1 + math.exp(-self._lambda * v)))(v) for v in v_results]\n",
    "            output_weights = weight_store[_output_w_value_]\n",
    "            output_v_results = np.dot(hidden_layer_values, np.transpose(output_weights))\n",
    "            output_hidden_layer_values = [(lambda v: 1 / (1 + math.exp(-self._lambda * v)))(v) for v in output_v_results]\n",
    "            error_list = np.subtract(np.array(velocity), np.array(output_hidden_layer_values))\n",
    "            AverageError = (abs(error_list[0]) + abs(error_list[1]))/len(error_list)\n",
    "            RMSE_Validation.append(AverageError)\n",
    "        return RMSE_Validation \n",
    "\n",
    "    \n",
    "validation = []\n",
    "validation_store = {}\n",
    "epoch_store = {}\n",
    "weight_store = {}\n",
    "epoch_validation_store = {}\n",
    "_x_values_count = 2\n",
    "_hidden_neuron_count = 7\n",
    "_input_w_value_ = \"input_w_value\"\n",
    "_output_w_value_ = \"output_w_value\"\n",
    "_delta_input_w_value_ = \"delta_input_w_value\"\n",
    "_delta_output_w_value_ = \"delta_output_w_value\"\n",
    "val_input_w_value_ = \"val_input_w_value\"\n",
    "val_output_w_value_ = \"val_output_w_value\"\n",
    "_RMSE = \"RMSE\"\n",
    "nn = neural_network_back_propogtaion()\n",
    "input_random_weights = [[random.random() for _ in range(_x_values_count)] for _ in range(_hidden_neuron_count)]\n",
    "\n",
    "for epoch in range (1, 1000):\n",
    "    \n",
    "    # Reinitializing the rmse training and validation list after each epoch\n",
    "    RMSE_training = []\n",
    "    RMSE_Validation = []\n",
    "    \n",
    "    # Feed forward and back propogation loop starting\n",
    "    for distance, velocity in file_input_rows:\n",
    "        outgradient_list = []\n",
    "        \n",
    "        # Feed foward#\n",
    "        #-------------#\n",
    "        \n",
    "        #If weight is not there in the dictionary code will take random weighr else will take last updated weight in dictionary.\n",
    "        input_weights = weight_store[_input_w_value_] if _input_w_value_ in weight_store else input_random_weights\n",
    "       \n",
    "        #Taking dot product of input and input weight for getting value of V and finding the activation function\n",
    "        hidden_layer_values = nn.activation_function(distance,input_weights)\n",
    "        \n",
    "        #Matric with number of column = number of hidden neuron count and rows = number of output\n",
    "        output_random_weights = [[random.random() for _ in range(len(hidden_layer_values))] for _ in range(len(velocity))]\n",
    "        \n",
    "        #output random weights will be assined as random if there no updated weight values in the store\n",
    "        output_weights = weight_store[_output_w_value_] if _output_w_value_ in weight_store else output_random_weights\n",
    "        \n",
    "        #Taking dot product of hidden_layer_values and transpose of output_weights for getting V values to find activation function in output layer\n",
    "        output_hidden_layer_values = nn.activation_function(hidden_layer_values,output_weights)\n",
    "        \n",
    "        \n",
    "        \n",
    "        # Back Propogation#\n",
    "        #-------------------#\n",
    "        \n",
    "        #Finding errors Actual - predicted \n",
    "        error_list = np.subtract(np.array(velocity), np.array(output_hidden_layer_values))\n",
    "   \n",
    "        #Outgradient calculation\n",
    "        outgradient_list = nn.out_gradient(distance, output_hidden_layer_values,error_list)\n",
    "        \n",
    "        # taking previous rows delta weight for getting alpha value for output delta weight\n",
    "        previous_row_out_delta_weights = weight_store[_delta_output_w_value_] if _delta_output_w_value_ in weight_store else [[0 for _ in range(len(output_weights[0]))] for _ in range(len(output_weights))]\n",
    "        \n",
    "        #delta weight calculation for weight s between hidden layer and output\n",
    "        output_delta_weights = nn.delta_output_weight_updation(output_weights, outgradient_list, previous_row_out_delta_weights)\n",
    "        \n",
    "        \n",
    "        # Storing delta weight values to dictionary\n",
    "        weight_store[_delta_output_w_value_] = output_delta_weights\n",
    "       \n",
    "        # weight updation      \n",
    "        output_updated_weights = nn.weight_updation(output_delta_weights, output_weights)\n",
    "        \n",
    "        # Storing updated weight values to dictionary        \n",
    "        weight_store[_output_w_value_] = output_updated_weights\n",
    "        \n",
    "        #Local gradient calculation\n",
    "        local_gradients = nn.local_gradient(outgradient_list, output_weights, hidden_layer_values)\n",
    "        \n",
    "        # taking previous rows delta weight for getting alpha value for input delta weight calculation\n",
    "        previous_row_input_delta_weights = weight_store[_delta_input_w_value_] if _delta_input_w_value_ in weight_store else [[0 for _ in range(len(input_weights[0]))] for _ in range(len(input_weights))]\n",
    "        \n",
    "        #Input delta weight calculation        \n",
    "        input_delta_weights = nn.delta_input_weight_updation(input_weights, local_gradients, previous_row_input_delta_weights)\n",
    "        weight_store[_delta_input_w_value_] = input_delta_weights\n",
    "        \n",
    "        #Input weight updation\n",
    "        input_updated_weights = nn.weight_updation(input_delta_weights, input_weights) \n",
    "        \n",
    "        #Storing updated input weight to dictionary\n",
    "        weight_store[_input_w_value_] = input_updated_weights\n",
    "     \n",
    "    \n",
    "    # RMSE Calculation - taking average error of each row and appending it to RMSE_training list and calculating RMSE VALUES\n",
    "        AverageError = (abs(error_list[0]) + abs(error_list[1]))/len(error_list)\n",
    "        RMSE_training.append(AverageError)\n",
    "    epoch_store[epoch] = nn.rmse_value_calculation(RMSE_training)    \n",
    "\n",
    "    \n",
    "    #----------Validation-------------#\n",
    "    \n",
    " \n",
    "    RMSE_Validation = nn.validation_values(game_validation_data, weight_store)\n",
    "    \n",
    "    #RMSE calculation for validation set\n",
    "    rmse_validation = nn.rmse_value_calculation(RMSE_Validation)\n",
    "    epoch_validation_store[epoch] = rmse_validation\n",
    "    \n",
    "    validation_store[rmse_validation] = weight_store\n",
    "    \n",
    "# Stopping criteria -  taking the minimum RMSE Value of validation and corresponding weight\n",
    "\n",
    "sorted_validation_store = min(validation_store.keys())\n",
    "print(f'Minimum RMSE Value : {sorted_validation_store}, Weights : {validation_store[sorted_validation_store]} ')"
   ]
  },
  {
   "cell_type": "code",
   "execution_count": 551,
   "id": "8f2c8333",
   "metadata": {
    "scrolled": false
   },
   "outputs": [
    {
     "data": {
      "image/png": "[encoded data removed]",
      "text/plain": [
       "<Figure size 640x480 with 1 Axes>"
      ]
     },
     "metadata": {},
     "output_type": "display_data"
    }
   ],
   "source": [
    "# Plotiing the graph for RMSE of training and validation against Loss function   \n",
    "xaxis = list(epoch_store.keys())\n",
    "yaxis = list(epoch_store.values())\n",
    "plt.plot(xaxis,yaxis,  color='g', label='training') \n",
    "xaxis_val = list(epoch_validation_store.keys())\n",
    "yaxis_val = list(epoch_validation_store.values())\n",
    "plt.plot(xaxis_val,yaxis_val,  color='r', label='validation')\n",
    "plt.xlabel(\"Epoch\")\n",
    "plt.ylabel(\"Loss\")\n",
    "plt.title(\"Training and Validation of neural network\")\n",
    "plt.legend()\n",
    "plt.show()"
   ]
  },
  {
   "cell_type": "code",
   "execution_count": null,
   "id": "cf9bf9d6",
   "metadata": {},
   "outputs": [],
   "source": []
  }
 ],
 "metadata": {
  "kernelspec": {
   "display_name": "Python 3 (ipykernel)",
   "language": "python",
   "name": "python3"
  },
  "language_info": {
   "codemirror_mode": {
    "name": "ipython",
    "version": 3
   },
   "file_extension": ".py",
   "mimetype": "text/x-python",
   "name": "python",
   "nbconvert_exporter": "python",
   "pygments_lexer": "ipython3",
   "version": "3.8.13"
  }
 },
 "nbformat": 4,
 "nbformat_minor": 5
}
